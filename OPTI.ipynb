{
 "cells": [
  {
   "cell_type": "code",
   "execution_count": 2,
   "id": "e8ff9294",
   "metadata": {},
   "outputs": [
    {
     "name": "stderr",
     "output_type": "stream",
     "text": [
      "C:\\Users\\Qureshi\\anaconda3\\lib\\site-packages\\pandas\\core\\computation\\expressions.py:21: UserWarning: Pandas requires version '2.8.4' or newer of 'numexpr' (version '2.8.1' currently installed).\n",
      "  from pandas.core.computation.check import NUMEXPR_INSTALLED\n",
      "C:\\Users\\Qureshi\\anaconda3\\lib\\site-packages\\pandas\\core\\arrays\\masked.py:60: UserWarning: Pandas requires version '1.3.6' or newer of 'bottleneck' (version '1.3.4' currently installed).\n",
      "  from pandas.core import (\n"
     ]
    }
   ],
   "source": [
    "import numpy as np\n",
    "import pandas as pd\n",
    "import matplotlib.pyplot as plt"
   ]
  },
  {
   "cell_type": "code",
   "execution_count": 3,
   "id": "9d8c82fb",
   "metadata": {},
   "outputs": [
    {
     "name": "stdout",
     "output_type": "stream",
     "text": [
      "[[1.         0.74908024]\n",
      " [1.         1.90142861]\n",
      " [1.         1.46398788]\n",
      " [1.         1.19731697]\n",
      " [1.         0.31203728]\n",
      " [1.         0.31198904]\n",
      " [1.         0.11616722]\n",
      " [1.         1.73235229]\n",
      " [1.         1.20223002]\n",
      " [1.         1.41614516]\n",
      " [1.         0.04116899]\n",
      " [1.         1.9398197 ]\n",
      " [1.         1.66488528]\n",
      " [1.         0.42467822]\n",
      " [1.         0.36364993]\n",
      " [1.         0.36680902]\n",
      " [1.         0.60848449]\n",
      " [1.         1.04951286]\n",
      " [1.         0.86389004]\n",
      " [1.         0.58245828]\n",
      " [1.         1.22370579]\n",
      " [1.         0.27898772]\n",
      " [1.         0.5842893 ]\n",
      " [1.         0.73272369]\n",
      " [1.         0.91213997]\n",
      " [1.         1.57035192]\n",
      " [1.         0.39934756]\n",
      " [1.         1.02846888]\n",
      " [1.         1.18482914]\n",
      " [1.         0.09290083]\n",
      " [1.         1.2150897 ]\n",
      " [1.         0.34104825]\n",
      " [1.         0.13010319]\n",
      " [1.         1.89777107]\n",
      " [1.         1.93126407]\n",
      " [1.         1.6167947 ]\n",
      " [1.         0.60922754]\n",
      " [1.         0.19534423]\n",
      " [1.         1.36846605]\n",
      " [1.         0.88030499]\n",
      " [1.         0.24407647]\n",
      " [1.         0.99035382]\n",
      " [1.         0.06877704]\n",
      " [1.         1.8186408 ]\n",
      " [1.         0.51755996]\n",
      " [1.         1.32504457]\n",
      " [1.         0.62342215]\n",
      " [1.         1.04013604]\n",
      " [1.         1.09342056]\n",
      " [1.         0.36970891]\n",
      " [1.         1.93916926]\n",
      " [1.         1.55026565]\n",
      " [1.         1.87899788]\n",
      " [1.         1.7896547 ]\n",
      " [1.         1.19579996]\n",
      " [1.         1.84374847]\n",
      " [1.         0.176985  ]\n",
      " [1.         0.39196572]\n",
      " [1.         0.09045458]\n",
      " [1.         0.65066066]\n",
      " [1.         0.77735458]\n",
      " [1.         0.54269806]\n",
      " [1.         1.65747502]\n",
      " [1.         0.71350665]\n",
      " [1.         0.56186902]\n",
      " [1.         1.08539217]\n",
      " [1.         0.28184845]\n",
      " [1.         1.60439396]\n",
      " [1.         0.14910129]\n",
      " [1.         1.97377387]\n",
      " [1.         1.54448954]\n",
      " [1.         0.39743136]\n",
      " [1.         0.01104423]\n",
      " [1.         1.63092286]\n",
      " [1.         1.41371469]\n",
      " [1.         1.45801434]\n",
      " [1.         1.54254069]\n",
      " [1.         0.1480893 ]\n",
      " [1.         0.71693146]\n",
      " [1.         0.23173812]\n",
      " [1.         1.72620685]\n",
      " [1.         1.24659625]\n",
      " [1.         0.66179605]\n",
      " [1.         0.1271167 ]\n",
      " [1.         0.62196464]\n",
      " [1.         0.65036664]\n",
      " [1.         1.45921236]\n",
      " [1.         1.27511494]\n",
      " [1.         1.77442549]\n",
      " [1.         0.94442985]\n",
      " [1.         0.23918849]\n",
      " [1.         1.42648957]\n",
      " [1.         1.5215701 ]\n",
      " [1.         1.1225544 ]\n",
      " [1.         1.54193436]\n",
      " [1.         0.98759119]\n",
      " [1.         1.04546566]\n",
      " [1.         0.85508204]\n",
      " [1.         0.05083825]\n",
      " [1.         0.21578285]]\n",
      "(100, 2)\n",
      "[[0.01300189]\n",
      " [1.45353408]]\n"
     ]
    }
   ],
   "source": [
    "# generate random data\n",
    "np.random.seed(42)\n",
    "X = 2 * np.random.rand(100, 1)\n",
    "y = 4 + 3 * X + np.random.randn(100, 1)\n",
    "\n",
    "# add bias\n",
    "X_b = np.c_[np.ones((100, 1)), X]\n",
    "theta= np.random.randn(2,1)\n",
    "print(X_b)\n",
    "print(X_b.shape)\n",
    "print(theta)"
   ]
  },
  {
   "cell_type": "code",
   "execution_count": 4,
   "id": "e3b573ac",
   "metadata": {},
   "outputs": [
    {
     "name": "stdout",
     "output_type": "stream",
     "text": [
      "[[4.36321017]\n",
      " [2.74279576]]\n"
     ]
    }
   ],
   "source": [
    "# BATCH GRADIENT\n",
    "def b_g_d(X, y, eta=0.1, n_iter=1000):\n",
    "    m = len(y)\n",
    "    theta = np.random.randn(2, 1)\n",
    "    for i in range(n_iter):\n",
    "        random_index = np.random.randint(m)\n",
    "        xi = X[random_index:random_index+1]\n",
    "        yi = y[random_index:random_index+1]\n",
    "        g = 2 * xi.T.dot(xi.dot(theta) - yi)\n",
    "        theta = theta - eta * g\n",
    "    return theta\n",
    "\n",
    "theta_bgd = b_g_d(X_b, y)\n",
    "print(theta_bgd)"
   ]
  },
  {
   "cell_type": "code",
   "execution_count": 7,
   "id": "5ad4afdb",
   "metadata": {},
   "outputs": [
    {
     "name": "stdout",
     "output_type": "stream",
     "text": [
      "[[4.22225214]\n",
      " [2.77715129]]\n"
     ]
    }
   ],
   "source": [
    "# MINI BATCH GRADIENT\n",
    "def m_g_d(X, y, eta=0.1, n_iter=1000,batch_size=20):\n",
    "    m = len(y)\n",
    "    theta = np.random.randn(2, 1)\n",
    "    for i in range(n_iter):\n",
    "        shuffled_index=np.random.permutation(m)\n",
    "        x_s=X[shuffled_index]\n",
    "        y_s=y[shuffled_index]\n",
    "        for j in range(0,m,batch_size):\n",
    "            xi=x_s[j:j+batch_size]\n",
    "            yi=y_s[j:j+batch_size]\n",
    "            g=2/len(xi)*xi.T.dot(xi.dot(theta)-yi)\n",
    "            theta=theta-eta*g\n",
    "    return theta\n",
    "theta_mgd=m_g_d(X_b,y)\n",
    "print(theta_mgd)"
   ]
  },
  {
   "cell_type": "code",
   "execution_count": 9,
   "id": "cbeee05d",
   "metadata": {},
   "outputs": [
    {
     "name": "stdout",
     "output_type": "stream",
     "text": [
      "[[4.7030574 ]\n",
      " [3.04120742]]\n"
     ]
    }
   ],
   "source": [
    "# Stochastic Gradient Descent\n",
    "def s_g_d(X, y, eta=0.1, n_iter=1000):\n",
    "    m = len(y)  \n",
    "    theta = np.random.randn(2, 1) \n",
    "    for i in range(n_iter):\n",
    "         for j in range(m):\n",
    "            random_index = np.random.randint(m)\n",
    "            xi = X[random_index:random_index + 1]  \n",
    "            yi = y[random_index:random_index + 1]  \n",
    "            g = 2 * xi.T.dot(xi.dot(theta) - yi)\n",
    "            theta = theta - eta * g\n",
    "    return theta\n",
    "theta_sgd=s_g_d(X_b,y)\n",
    "print(theta_sgd)"
   ]
  },
  {
   "cell_type": "code",
   "execution_count": 15,
   "id": "1798a04f",
   "metadata": {},
   "outputs": [
    {
     "name": "stderr",
     "output_type": "stream",
     "text": [
      "C:\\Users\\Qureshi\\AppData\\Local\\Temp\\ipykernel_21800\\1337118959.py:12: UserWarning: No artists with labels found to put in legend.  Note that artists whose label start with an underscore are ignored when legend() is called with no argument.\n",
      "  plt.legend(loc=\"upper left\")\n"
     ]
    },
    {
     "data": {
      "image/png": "[encoded data removed]",
      "text/plain": [
       "<Figure size 432x288 with 1 Axes>"
      ]
     },
     "metadata": {
      "needs_background": "light"
     },
     "output_type": "display_data"
    }
   ],
   "source": [
    "#plot\n",
    "def plot_gd(X,y, theta_bgd, theta_mgd, theta_sgd) :\n",
    "    plt.plot(X,y, 'b.')\n",
    "    y_pred_bgd=X_b.dot (theta_bgd)\n",
    "    y_pred_mgd=X_b.dot (theta_mgd)\n",
    "    y_pred_sgd=X_b.dot(theta_sgd)\n",
    "    plt.plot(X,y_pred_bgd, 'r-')\n",
    "    plt.plot(X,y_pred_mgd, 'g-')\n",
    "    plt.plot(X,y_pred_sgd, 'y-')\n",
    "    plt.xlabel ( 'X')\n",
    "    plt.ylabel('y')\n",
    "    plt.legend(loc=\"upper left\")\n",
    "    plt.title(\"gradient descent comparison\")\n",
    "    plt.show\n",
    "plot_gd(X,y, theta_bgd, theta_mgd, theta_sgd)"
   ]
  },
  {
   "cell_type": "code",
   "execution_count": 22,
   "id": "587d4ed2",
   "metadata": {},
   "outputs": [
    {
     "data": {
      "image/png": "[encoded data removed]",
      "text/plain": [
       "<Figure size 432x288 with 1 Axes>"
      ]
     },
     "metadata": {
      "needs_background": "light"
     },
     "output_type": "display_data"
    }
   ],
   "source": [
    "#GRAD WITH MOMENTUM\n",
    "#import numpy as np\n",
    "#import matplotlib.pyplot as plt\n",
    "\n",
    "# Generate some example data\n",
    "np.random.seed(0)  # For reproducibility\n",
    "X = 2 * np.random.rand(100, 1)  # 100 random samples from 0 to 2\n",
    "y = 4 + 3 * X + np.random.randn(100, 1)  # Linear relation with noise\n",
    "\n",
    "# Add bias term (intercept) to the feature matrix\n",
    "X_b = np.c_[np.ones((100, 1)), X]\n",
    "\n",
    "# Initialize theta\n",
    "theta = np.random.randn(2, 1)\n",
    "\n",
    "# Gradient Descent with Momentum function\n",
    "def gd_m(X, y, theta, eta, gamma, n_iter):\n",
    "    m = len(y)\n",
    "    vel = np.zeros(theta.shape)  # Initialize velocity\n",
    "    for i in range(n_iter):\n",
    "        g = (2 / m) * X.T.dot(X.dot(theta) - y)  # Compute gradient\n",
    "        vel = gamma * vel + eta * g               # Update velocity\n",
    "        theta = theta - vel                        # Update theta\n",
    "    return theta\n",
    "\n",
    "# Perform Gradient Descent with Momentum\n",
    "theta_gd_m = gd_m(X_b, y, theta, eta=0.01, gamma=0.9, n_iter=1000)\n",
    "\n",
    "# Generate predictions based on final theta\n",
    "y_gd_m = X_b.dot(theta_gd_m)\n",
    "\n",
    "# Plotting\n",
    "plt.scatter(X, y, label='Data points')  # Scatter plot for original data points\n",
    "plt.plot(X, y_gd_m, 'r-', label='Grad with momentum')  # Line plot for predictions\n",
    "plt.xlabel(\"X\")\n",
    "plt.ylabel(\"y\")\n",
    "plt.legend()\n",
    "plt.show()\n"
   ]
  },
  {
   "cell_type": "code",
   "execution_count": 23,
   "id": "e2d557d9",
   "metadata": {},
   "outputs": [
    {
     "data": {
      "image/png": "[encoded data removed]",
      "text/plain": [
       "<Figure size 432x288 with 1 Axes>"
      ]
     },
     "metadata": {
      "needs_background": "light"
     },
     "output_type": "display_data"
    }
   ],
   "source": [
    "#ADAGRAD\n",
    "import numpy as np\n",
    "import matplotlib.pyplot as plt\n",
    "\n",
    "# Generate some example data\n",
    "np.random.seed(0)  # For reproducibility\n",
    "X = 2 * np.random.rand(100, 1)  # 100 random samples from 0 to 2\n",
    "y = 4 + 3 * X + np.random.randn(100, 1)  # Linear relation with noise\n",
    "\n",
    "# Add bias term (intercept) to the feature matrix\n",
    "X_b = np.c_[np.ones((100, 1)), X]\n",
    "\n",
    "# Initialize theta\n",
    "theta = np.random.randn(2, 1)\n",
    "eta=0.01\n",
    "n_iter=1000\n",
    "epsilon=1e-8\n",
    "S=np.zeros(theta.shape)\n",
    "# AdaGrad function\n",
    "def adagrad(X, y, theta, eta, n_iter):\n",
    "    m = len(y)\n",
    "    grad_squared = np.zeros(theta.shape)  # Initialize squared gradients\n",
    "    for i in range(n_iter):\n",
    "        g = (2 / m) * X_b.T.dot(X_b.dot(theta) - y)  # Compute gradient\n",
    "        grad_squared += g ** 2  # Accumulate squared gradients\n",
    "        adjusted_eta = eta / (np.sqrt(grad_squared) + 1e-8)  # Adjust learning rate\n",
    "        theta = theta - adjusted_eta * g  # Update theta\n",
    "    return theta\n",
    "\n",
    "# Perform AdaGrad\n",
    "theta_adagrad = adagrad(X_b, y, theta, eta=0.1, n_iter=1000)\n",
    "\n",
    "# Generate predictions based on final theta\n",
    "y_b = X_b.dot(theta_adagrad)\n",
    "\n",
    "# Plotting\n",
    "plt.scatter(X, y, label='Data points')  # Scatter plot for original data points\n",
    "plt.plot(X, y_b, 'r-', label='AdaGrad Fit')  # Line plot for predictions\n",
    "plt.xlabel(\"X\")\n",
    "plt.ylabel(\"y\")\n",
    "plt.legend()\n",
    "plt.show()\n"
   ]
  },
  {
   "cell_type": "code",
   "execution_count": 24,
   "id": "99de0902",
   "metadata": {},
   "outputs": [
    {
     "data": {
      "image/png": "[encoded data removed]",
      "text/plain": [
       "<Figure size 432x288 with 1 Axes>"
      ]
     },
     "metadata": {
      "needs_background": "light"
     },
     "output_type": "display_data"
    }
   ],
   "source": [
    "#RMS PROP\n",
    "#import numpy as np\n",
    "#import matplotlib.pyplot as plt\n",
    "\n",
    "# Generate some example data\n",
    "np.random.seed(0)  # For reproducibility\n",
    "X = 2 * np.random.rand(100, 1)  # 100 random samples from 0 to 2\n",
    "y = 4 + 3 * X + np.random.randn(100, 1)  # Linear relation with noise\n",
    "\n",
    "# Add bias term (intercept) to the feature matrix\n",
    "X_b = np.c_[np.ones((100, 1)), X]\n",
    "\n",
    "# Initialize theta\n",
    "theta = np.random.randn(2, 1)\n",
    "\n",
    "# RMSprop function\n",
    "def rmsprop(X, y, theta, eta, beta, n_iter):\n",
    "    m = len(y)\n",
    "    grad_squared = np.zeros(theta.shape)  # Initialize squared gradients\n",
    "    for i in range(n_iter):\n",
    "        g = (2 / m) * X.T.dot(X.dot(theta) - y)  # Compute gradient\n",
    "        grad_squared = beta * grad_squared + (1 - beta) * g ** 2  # Update squared gradients\n",
    "        adjusted_eta = eta / (np.sqrt(grad_squared) + 1e-8)  # Adjust learning rate\n",
    "        theta = theta - adjusted_eta * g  # Update theta\n",
    "    return theta\n",
    "\n",
    "# Perform RMSprop\n",
    "theta_rmsprop = rmsprop(X_b, y, theta, eta=0.1, beta=0.9, n_iter=1000)\n",
    "\n",
    "# Generate predictions based on final theta\n",
    "y_rmsprop = X_b.dot(theta_rmsprop)\n",
    "\n",
    "# Plotting\n",
    "plt.scatter(X, y, label='Data points')  # Scatter plot for original data points\n",
    "plt.plot(X, y_rmsprop, 'r-', label='RMSprop Fit')  # Line plot for predictions\n",
    "plt.xlabel(\"X\")\n",
    "plt.ylabel(\"y\")\n",
    "plt.legend()\n",
    "plt.show()\n"
   ]
  }
 ],
 "metadata": {
  "kernelspec": {
   "display_name": "Python 3 (ipykernel)",
   "language": "python",
   "name": "python3"
  },
  "language_info": {
   "codemirror_mode": {
    "name": "ipython",
    "version": 3
   },
   "file_extension": ".py",
   "mimetype": "text/x-python",
   "name": "python",
   "nbconvert_exporter": "python",
   "pygments_lexer": "ipython3",
   "version": "3.9.12"
  }
 },
 "nbformat": 4,
 "nbformat_minor": 5
}
