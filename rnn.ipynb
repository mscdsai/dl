{
  "nbformat": 4,
  "nbformat_minor": 0,
  "metadata": {
    "colab": {
      "provenance": []
    },
    "kernelspec": {
      "name": "python3",
      "display_name": "Python 3"
    },
    "language_info": {
      "name": "python"
    }
  },
  "cells": [
    {
      "cell_type": "code",
      "execution_count": 3,
      "metadata": {
        "colab": {
          "base_uri": "https://localhost:8080/",
          "height": 408
        },
        "id": "ts2NrvxcAF_D",
        "outputId": "d18384f9-de8b-4e6c-f3d5-8c2ad7750e4c"
      },
      "outputs": [
        {
          "output_type": "stream",
          "name": "stdout",
          "text": [
            "\u001b[1m358/358\u001b[0m \u001b[32m━━━━━━━━━━━━━━━━━━━━\u001b[0m\u001b[37m\u001b[0m \u001b[1m102s\u001b[0m 276ms/step - accuracy: 0.7269 - loss: 0.5157 - val_accuracy: 0.8369 - val_loss: 0.3711\n"
          ]
        },
        {
          "output_type": "display_data",
          "data": {
            "text/plain": [
              "\u001b[1mModel: \"sequential_1\"\u001b[0m\n"
            ],
            "text/html": [
              "<pre style=\"white-space:pre;overflow-x:auto;line-height:normal;font-family:Menlo,'DejaVu Sans Mono',consolas,'Courier New',monospace\"><span style=\"font-weight: bold\">Model: \"sequential_1\"</span>\n",
              "</pre>\n"
            ]
          },
          "metadata": {}
        },
        {
          "output_type": "display_data",
          "data": {
            "text/plain": [
              "┏━━━━━━━━━━━━━━━━━━━━━━━━━━━━━━━━━━━━━━┳━━━━━━━━━━━━━━━━━━━━━━━━━━━━━┳━━━━━━━━━━━━━━━━━┓\n",
              "┃\u001b[1m \u001b[0m\u001b[1mLayer (type)                        \u001b[0m\u001b[1m \u001b[0m┃\u001b[1m \u001b[0m\u001b[1mOutput Shape               \u001b[0m\u001b[1m \u001b[0m┃\u001b[1m \u001b[0m\u001b[1m        Param #\u001b[0m\u001b[1m \u001b[0m┃\n",
              "┡━━━━━━━━━━━━━━━━━━━━━━━━━━━━━━━━━━━━━━╇━━━━━━━━━━━━━━━━━━━━━━━━━━━━━╇━━━━━━━━━━━━━━━━━┩\n",
              "│ embedding_1 (\u001b[38;5;33mEmbedding\u001b[0m)              │ (\u001b[38;5;45mNone\u001b[0m, \u001b[38;5;34m80\u001b[0m, \u001b[38;5;34m128\u001b[0m)             │         \u001b[38;5;34m640,000\u001b[0m │\n",
              "├──────────────────────────────────────┼─────────────────────────────┼─────────────────┤\n",
              "│ lstm_1 (\u001b[38;5;33mLSTM\u001b[0m)                        │ (\u001b[38;5;45mNone\u001b[0m, \u001b[38;5;34m128\u001b[0m)                 │         \u001b[38;5;34m131,584\u001b[0m │\n",
              "├──────────────────────────────────────┼─────────────────────────────┼─────────────────┤\n",
              "│ dense_1 (\u001b[38;5;33mDense\u001b[0m)                      │ (\u001b[38;5;45mNone\u001b[0m, \u001b[38;5;34m1\u001b[0m)                   │             \u001b[38;5;34m129\u001b[0m │\n",
              "└──────────────────────────────────────┴─────────────────────────────┴─────────────────┘\n"
            ],
            "text/html": [
              "<pre style=\"white-space:pre;overflow-x:auto;line-height:normal;font-family:Menlo,'DejaVu Sans Mono',consolas,'Courier New',monospace\">┏━━━━━━━━━━━━━━━━━━━━━━━━━━━━━━━━━━━━━━┳━━━━━━━━━━━━━━━━━━━━━━━━━━━━━┳━━━━━━━━━━━━━━━━━┓\n",
              "┃<span style=\"font-weight: bold\"> Layer (type)                         </span>┃<span style=\"font-weight: bold\"> Output Shape                </span>┃<span style=\"font-weight: bold\">         Param # </span>┃\n",
              "┡━━━━━━━━━━━━━━━━━━━━━━━━━━━━━━━━━━━━━━╇━━━━━━━━━━━━━━━━━━━━━━━━━━━━━╇━━━━━━━━━━━━━━━━━┩\n",
              "│ embedding_1 (<span style=\"color: #0087ff; text-decoration-color: #0087ff\">Embedding</span>)              │ (<span style=\"color: #00d7ff; text-decoration-color: #00d7ff\">None</span>, <span style=\"color: #00af00; text-decoration-color: #00af00\">80</span>, <span style=\"color: #00af00; text-decoration-color: #00af00\">128</span>)             │         <span style=\"color: #00af00; text-decoration-color: #00af00\">640,000</span> │\n",
              "├──────────────────────────────────────┼─────────────────────────────┼─────────────────┤\n",
              "│ lstm_1 (<span style=\"color: #0087ff; text-decoration-color: #0087ff\">LSTM</span>)                        │ (<span style=\"color: #00d7ff; text-decoration-color: #00d7ff\">None</span>, <span style=\"color: #00af00; text-decoration-color: #00af00\">128</span>)                 │         <span style=\"color: #00af00; text-decoration-color: #00af00\">131,584</span> │\n",
              "├──────────────────────────────────────┼─────────────────────────────┼─────────────────┤\n",
              "│ dense_1 (<span style=\"color: #0087ff; text-decoration-color: #0087ff\">Dense</span>)                      │ (<span style=\"color: #00d7ff; text-decoration-color: #00d7ff\">None</span>, <span style=\"color: #00af00; text-decoration-color: #00af00\">1</span>)                   │             <span style=\"color: #00af00; text-decoration-color: #00af00\">129</span> │\n",
              "└──────────────────────────────────────┴─────────────────────────────┴─────────────────┘\n",
              "</pre>\n"
            ]
          },
          "metadata": {}
        },
        {
          "output_type": "display_data",
          "data": {
            "text/plain": [
              "\u001b[1m Total params: \u001b[0m\u001b[38;5;34m2,315,141\u001b[0m (8.83 MB)\n"
            ],
            "text/html": [
              "<pre style=\"white-space:pre;overflow-x:auto;line-height:normal;font-family:Menlo,'DejaVu Sans Mono',consolas,'Courier New',monospace\"><span style=\"font-weight: bold\"> Total params: </span><span style=\"color: #00af00; text-decoration-color: #00af00\">2,315,141</span> (8.83 MB)\n",
              "</pre>\n"
            ]
          },
          "metadata": {}
        },
        {
          "output_type": "display_data",
          "data": {
            "text/plain": [
              "\u001b[1m Trainable params: \u001b[0m\u001b[38;5;34m771,713\u001b[0m (2.94 MB)\n"
            ],
            "text/html": [
              "<pre style=\"white-space:pre;overflow-x:auto;line-height:normal;font-family:Menlo,'DejaVu Sans Mono',consolas,'Courier New',monospace\"><span style=\"font-weight: bold\"> Trainable params: </span><span style=\"color: #00af00; text-decoration-color: #00af00\">771,713</span> (2.94 MB)\n",
              "</pre>\n"
            ]
          },
          "metadata": {}
        },
        {
          "output_type": "display_data",
          "data": {
            "text/plain": [
              "\u001b[1m Non-trainable params: \u001b[0m\u001b[38;5;34m0\u001b[0m (0.00 B)\n"
            ],
            "text/html": [
              "<pre style=\"white-space:pre;overflow-x:auto;line-height:normal;font-family:Menlo,'DejaVu Sans Mono',consolas,'Courier New',monospace\"><span style=\"font-weight: bold\"> Non-trainable params: </span><span style=\"color: #00af00; text-decoration-color: #00af00\">0</span> (0.00 B)\n",
              "</pre>\n"
            ]
          },
          "metadata": {}
        },
        {
          "output_type": "display_data",
          "data": {
            "text/plain": [
              "\u001b[1m Optimizer params: \u001b[0m\u001b[38;5;34m1,543,428\u001b[0m (5.89 MB)\n"
            ],
            "text/html": [
              "<pre style=\"white-space:pre;overflow-x:auto;line-height:normal;font-family:Menlo,'DejaVu Sans Mono',consolas,'Courier New',monospace\"><span style=\"font-weight: bold\"> Optimizer params: </span><span style=\"color: #00af00; text-decoration-color: #00af00\">1,543,428</span> (5.89 MB)\n",
              "</pre>\n"
            ]
          },
          "metadata": {}
        },
        {
          "output_type": "stream",
          "name": "stdout",
          "text": [
            "\u001b[1m782/782\u001b[0m \u001b[32m━━━━━━━━━━━━━━━━━━━━\u001b[0m\u001b[37m\u001b[0m \u001b[1m38s\u001b[0m 49ms/step\n",
            "Downloading data from https://storage.googleapis.com/tensorflow/tf-keras-datasets/imdb_word_index.json\n",
            "\u001b[1m1641221/1641221\u001b[0m \u001b[32m━━━━━━━━━━━━━━━━━━━━\u001b[0m\u001b[37m\u001b[0m \u001b[1m0s\u001b[0m 0us/step\n",
            "Sentence: justbadwhatwithoveractingbadfxandastupidstoryitsthiskindofmoviewhichgivesabadnametozmoviesingeneralwhycouldtheynotlearnthelessonfromthefirsthouseofthedeadmovieanywayiguessyouwillhaveunderstoodbynowthatyoushouldnotseethisfilmitisbutawasteoftimewatchbadtasteordawnofthedeadifyouwanttoseesomegoodzombies\n",
            "Review: Negative\n",
            "Predicted Value: 0.022413142\n",
            "Expected Value: 0\n"
          ]
        }
      ],
      "source": [
        "#RNN\n",
        "from keras.preprocessing import sequence\n",
        "from keras.models import Sequential\n",
        "from keras.layers import Dense, Embedding\n",
        "from keras.layers import LSTM\n",
        "from keras.datasets import imdb\n",
        "\n",
        "\n",
        "# Load data\n",
        "(x_train, y_train), (x_test, y_test) = imdb.load_data(num_words = 5000)\n",
        "\n",
        "#length of words\n",
        "x_train = sequence.pad_sequences(x_train, maxlen=80)\n",
        "x_test = sequence.pad_sequences(x_test, maxlen=80)\n",
        "\n",
        "# Creating Model\n",
        "model = Sequential()\n",
        "model.add(Embedding(5000, 128))\n",
        "model.add(LSTM(128,activation=\"tanh\",recurrent_activation=\"sigmoid\"))\n",
        "model.add(Dense(1, activation = 'sigmoid'))\n",
        "\n",
        "# Model Compile\n",
        "#model.compile(loss = 'binary_crossentropy', optimizer = 'adam', metrics = ['accuracy'])\n",
        "model.compile(loss = 'categorical_crossentropy', optimizer = 'adam', metrics = ['accuracy'])\n",
        "#model.compile(loss = 'mse', optimizer = 'adam', metrics = ['accuracy'])\n",
        "\n",
        "# Training\n",
        "lstm=model.fit(x_train, y_train, batch_size =70, epochs = 1, validation_data = (x_test, y_test),shuffle=True,verbose=1)\n",
        "\n",
        "# Summary\n",
        "model.summary()\n",
        "\n",
        "# Test\n",
        "op=model.predict(x_test)\n",
        "op\n",
        "\n",
        "# Using test data to check the predicted values\n",
        "from random import randint\n",
        "arr_ind=randint(0,24999)\n",
        "index=imdb.get_word_index()\n",
        "reverse_index = dict([(value, key) for (key, value) in index.items()])\n",
        "decoded = \"\".join([reverse_index.get(i - 3, \"#\") for i in x_test[arr_ind]])\n",
        "arr=[]\n",
        "for i in op:\n",
        "  if(i<0.5):\n",
        "    arr.append(\"Negative\")\n",
        "  else:\n",
        "    arr.append(\"Positive\")\n",
        "print(\"Sentence:\",decoded)\n",
        "print(\"Review:\",arr[arr_ind])\n",
        "print(\"Predicted Value:\",op[arr_ind][0])\n",
        "print(\"Expected Value:\",y_test[arr_ind])\n",
        "\n",
        "\n",
        "####### DONT Do\n",
        "\n",
        "\n",
        "# For Predicting new output (Optional)\n",
        "from keras.datasets import imdb\n",
        "from keras.preprocessing.sequence import pad_sequences\n",
        "\n",
        "# Load the word index from the IMDB dataset\n",
        "word_index = imdb.get_word_index()\n",
        "\n",
        "# Function to convert text into a sequence of integers\n",
        "def text_to_sequence(text, word_index, max_words=5000):\n",
        "    tokens = text.lower().split()  # Tokenize the input text by splitting on spaces\n",
        "    sequence = [word_index.get(word, 2) for word in tokens if word_index.get(word, 0) < max_words]  # Convert words to indices; use '2' for unknown words\n",
        "    return sequence\n",
        "\n",
        "# Example new input text\n",
        "new_input = \"This movie was a complete disaster from start to finish. The plot was incoherent and full of holes, leaving me confused and frustrated. The acting was wooden and unconvincing, making it impossible to connect with any of the characters. The dialogue was painfully cliché and uninspired, and the special effects looked cheap and outdated. I kept hoping it would get better, but it just kept getting worse. I can't believe I wasted my time watching this\"\n",
        "\n",
        "# Preprocess the new input text\n",
        "new_input_sequence = text_to_sequence(new_input, word_index)\n",
        "new_input_padded = pad_sequences([new_input_sequence], maxlen=80)  # Adjust maxlen as needed\n",
        "\n",
        "# Make prediction\n",
        "new_op = model.predict(new_input_padded)\n",
        "\n",
        "# Interpret the output\n",
        "if new_op < 0.5:\n",
        "    print(\"Negative\")\n",
        "else:\n",
        "    print(\"Positive\")\n",
        "\n",
        "print(\"Padded Input Sequence:\", new_input_padded)\n",
        "print(\"Prediction Score:\", new_op[0][0])"
      ]
    },
    {
      "cell_type": "code",
      "source": [],
      "metadata": {
        "id": "L-d6JJfHCWV1"
      },
      "execution_count": null,
      "outputs": []
    }
  ]
}