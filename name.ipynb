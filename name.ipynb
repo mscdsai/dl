{
  "nbformat": 4,
  "nbformat_minor": 0,
  "metadata": {
    "colab": {
      "provenance": []
    },
    "kernelspec": {
      "name": "python3",
      "display_name": "Python 3"
    },
    "language_info": {
      "name": "python"
    }
  },
  "cells": [
    {
      "cell_type": "code",
      "execution_count": null,
      "metadata": {
        "id": "IuCngYw9Sx6d"
      },
      "outputs": [],
      "source": []
    },
    {
      "cell_type": "code",
      "source": [
        "AUTO: Autoencoder (including Denoising, Sparse)\n",
        "OPTI: Optimizers (Basic and Advanced)\n",
        "ao: Advanced Optimizers\n",
        "auto: Simple Autoencoder\n",
        "batch: Batch Normalization\n",
        "binary: Binary Classification and Multi-class Classification\n",
        "cnn: Convolutional Neural Network (avoid the specific CNN case you're referring to)\n",
        "data: Data Augmentation\n",
        "dauto: Denoising Autoencoder\n",
        "drop: Dropout\n",
        "o: Basic Optimizers\n",
        "reg: Regularization\n",
        "rnn: Recurrent Neural Networks\n",
        "sauto: Sparse Autoencoder (row-wise)"
      ],
      "metadata": {
        "id": "wBA5p6OoS0Sc"
      },
      "execution_count": null,
      "outputs": []
    }
  ]
}